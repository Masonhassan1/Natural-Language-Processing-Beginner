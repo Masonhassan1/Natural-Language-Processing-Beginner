{
 "cells": [
  {
   "cell_type": "code",
   "execution_count": 36,
   "id": "afb48c37",
   "metadata": {},
   "outputs": [
    {
     "name": "stderr",
     "output_type": "stream",
     "text": [
      "Xref table not zero-indexed. ID numbers for objects will be corrected.\n"
     ]
    },
    {
     "name": "stdout",
     "output_type": "stream",
     "text": [
      "Press 1 to extract all text from the pdf file\n",
      "Press 1 to extract certain page text from the pdf file\n",
      "Enter yourr input : 2\n",
      "Enter the page number: 45\n",
      "23 2. Replace \"exploring\"  with \"learning\"  in the preceding string.\n",
      "String_v2 = String_v1.replace(\"exploring\", \"learning\")\n",
      "print(String_v2)\n",
      "#Output\n",
      "I am learning NLP\n",
      " Concatenating Two Strings\n",
      "The following is simple code.\n",
      "s1 = \"nlp\"\n",
      "s2 = \"machine learning\"\n",
      "s3 = s1+s2\n",
      "print(s3)\n",
      "#output\n",
      "'nlpmachine learning'\n",
      " Searching for a Substring in a String\n",
      "Use the find  function to fetch the starting index value of the substring in the whole string.\n",
      "var=\"I am learning NLP\"\n",
      "f= \"learn\"\n",
      "var.find(f)\n",
      "#output\n",
      "5\n",
      " Recipe 1-8. Scraping Text from the Web\n",
      "This recipe discusses how to scrape data from the web.Chapter 1  extra Cting the Data\n"
     ]
    }
   ],
   "source": [
    "import PyPDF2\n",
    "from PyPDF2 import PdfFileReader\n",
    "pdf = open(\"new.pdf\",\"rb\")\n",
    "pdf_reader=PdfFileReader(pdf)\n",
    "user_choice=int(input(\"Enter yourr input : \"))\n",
    "page_no=int(input(\"Enter the page number: \"))\n",
    "page = pdf_reader.getPage(page_no)\n",
    "print(page.extract_text())\n",
    "pdf.close()\n"
   ]
  },
  {
   "cell_type": "code",
   "execution_count": null,
   "id": "47616e9c",
   "metadata": {},
   "outputs": [],
   "source": []
  }
 ],
 "metadata": {
  "kernelspec": {
   "display_name": "Python 3 (ipykernel)",
   "language": "python",
   "name": "python3"
  },
  "language_info": {
   "codemirror_mode": {
    "name": "ipython",
    "version": 3
   },
   "file_extension": ".py",
   "mimetype": "text/x-python",
   "name": "python",
   "nbconvert_exporter": "python",
   "pygments_lexer": "ipython3",
   "version": "3.11.4"
  }
 },
 "nbformat": 4,
 "nbformat_minor": 5
}
