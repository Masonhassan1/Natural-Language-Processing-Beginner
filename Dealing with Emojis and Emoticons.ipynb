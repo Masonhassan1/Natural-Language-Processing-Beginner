{
 "cells": [
  {
   "cell_type": "code",
   "execution_count": 10,
   "id": "f976bcc5",
   "metadata": {},
   "outputs": [],
   "source": [
    "#Converting text to emoji\n",
    "import re\n",
    "from emot.emo_unicode import UNICODE_EMOJI, EMOTICONS_EMO\n",
    "text1 = \"What are you saying 😂. I am the boss😎, and why are you so 😒\"\n",
    "def converting_emojis(text):\n",
    "    for emot in UNICODE_EMOJI:\n",
    "        text = text.replace(emot,\" \".join(UNICODE_EMOJI[emot].replace(\",\",\" \").replace(\":\",\"\").split()))\n",
    "    return text"
   ]
  },
  {
   "cell_type": "code",
   "execution_count": 11,
   "id": "672a7fbd",
   "metadata": {},
   "outputs": [
    {
     "data": {
      "text/plain": [
       "'What are you saying face_with_tears_of_joy. I am the bosssmiling_face_with_sunglasses, and why are you so unamused_face'"
      ]
     },
     "execution_count": 11,
     "metadata": {},
     "output_type": "execute_result"
    }
   ],
   "source": [
    "converting_emojis(text1)"
   ]
  },
  {
   "cell_type": "code",
   "execution_count": 27,
   "id": "19f37e7e",
   "metadata": {},
   "outputs": [],
   "source": [
    "#Removing Emoticons\n",
    "def removing_emoticons(string):\n",
    "    emot_unicodes = re.compile(\"[\"\n",
    "                               u\"\\U0001F600-\\U0001F64F\"  # emoticons\n",
    "                               u\"\\U0001F300-\\U0001F5FF\"  # symbols\n",
    "                               u\"\\U0001F680-\\U0001F6FF\"  # transport\n",
    "                               u\"\\U0001F1E0-\\U0001F1FF\"  # flags (iOS)\n",
    "                               u\"\\U00002500-\\U00002BEF\"\n",
    "                               u\"\\U00002702-\\U000027B0\"\n",
    "                               u\"\\U000024C2-\\U0001F251\"\n",
    "                               u\"\\U0001f926-\\U0001f937\"\n",
    "                               u\"\\U00010000-\\U0010ffff\"\n",
    "                               u\"\\u2640-\\u2642\"\n",
    "                               u\"\\u2600-\\u2B55\"\n",
    "                               u\"\\u200d\"\n",
    "                               u\"\\u23cf\"\n",
    "                               u\"\\u23e9\"\n",
    "                               u\"\\u231a\"\n",
    "                               u\"\\ufe0f\"\n",
    "                               u\"\\u3030\"\n",
    "                               \"]+\", flags=re.UNICODE)\n",
    "    return emot_unicodes.sub(r'', string)"
   ]
  },
  {
   "cell_type": "code",
   "execution_count": 28,
   "id": "7a3f7089",
   "metadata": {},
   "outputs": [
    {
     "data": {
      "text/plain": [
       "'Hey, how are you :-) how was your day, what are you doing?:-)'"
      ]
     },
     "execution_count": 28,
     "metadata": {},
     "output_type": "execute_result"
    }
   ],
   "source": [
    "removing_emoticons(text2)"
   ]
  },
  {
   "cell_type": "code",
   "execution_count": 29,
   "id": "be223b0c",
   "metadata": {},
   "outputs": [],
   "source": [
    "#detect emojis and determine their meaning.\n",
    "text3 = \"\"\"\\\n",
    "#Hey, I am going to say something special 🎅🏾 that you are on 🔥 🐂\n",
    "what is wrong with 🌋🌋 and it is so 👹 there are many... 🤡 🚣🏼 👨🏽‍⚖️\n",
    "again with the same issue ... 🔥🔥\n",
    "🇲🇽 and 🇳🇮 to find the best one of all 🔥🔥!!!!!..\"\"\""
   ]
  },
  {
   "cell_type": "code",
   "execution_count": 30,
   "id": "6c94bf91",
   "metadata": {},
   "outputs": [
    {
     "name": "stderr",
     "output_type": "stream",
     "text": [
      "/tmp/ipykernel_29960/2319952594.py:2: FutureWarning: The demoji.download_codes attribute is deprecated and will be removed from demoji in a future version. It is an unused attribute as emoji codes are now distributed directly with the demoji package.\n",
      "  demoji.download_codes()\n"
     ]
    }
   ],
   "source": [
    "import demoji\n",
    "demoji.download_codes()"
   ]
  },
  {
   "cell_type": "code",
   "execution_count": 31,
   "id": "4ae49563",
   "metadata": {},
   "outputs": [
    {
     "data": {
      "text/plain": [
       "{'🤡': 'clown face',\n",
       " '🚣🏼': 'person rowing boat: medium-light skin tone',\n",
       " '🔥': 'fire',\n",
       " '👨🏽\\u200d⚖️': 'man judge: medium skin tone',\n",
       " '🎅🏾': 'Santa Claus: medium-dark skin tone',\n",
       " '🇲🇽': 'flag: Mexico',\n",
       " '🌋': 'volcano',\n",
       " '🇳🇮': 'flag: Nicaragua',\n",
       " '🐂': 'ox',\n",
       " '👹': 'ogre'}"
      ]
     },
     "execution_count": 31,
     "metadata": {},
     "output_type": "execute_result"
    }
   ],
   "source": [
    "demoji.findall(text3)"
   ]
  },
  {
   "cell_type": "code",
   "execution_count": null,
   "id": "9198cf57",
   "metadata": {},
   "outputs": [],
   "source": []
  }
 ],
 "metadata": {
  "kernelspec": {
   "display_name": "Python 3 (ipykernel)",
   "language": "python",
   "name": "python3"
  },
  "language_info": {
   "codemirror_mode": {
    "name": "ipython",
    "version": 3
   },
   "file_extension": ".py",
   "mimetype": "text/x-python",
   "name": "python",
   "nbconvert_exporter": "python",
   "pygments_lexer": "ipython3",
   "version": "3.11.4"
  }
 },
 "nbformat": 4,
 "nbformat_minor": 5
}
