{
 "cells": [
  {
   "cell_type": "code",
   "execution_count": 1,
   "id": "8ea1b4db",
   "metadata": {},
   "outputs": [],
   "source": [
    "#Here are a few of the similarity measures.\n",
    "#•Cosine similarity: Calculates the cosine of the angle between the two\n",
    "#vectors.\n",
    "#•Jaccard similarity: The score is calculated using the intersection or\n",
    "#union of words.\n",
    "#•Jaccard Index: (the number in both sets) / (the number in either set)\n",
    "#* 100.\n",
    "#•Levenshtein distance: A minimal number of insertions, deletions,\n",
    "#and replacements are required to transform string a into string b.\n",
    "#•Hamming distance: The number of positions with the same symbol\n",
    "#in both strings. It can be defined only for strings with equal length."
   ]
  },
  {
   "cell_type": "code",
   "execution_count": 2,
   "id": "0b1bfbeb",
   "metadata": {},
   "outputs": [],
   "source": [
    "documents = (\n",
    "\"I like NLP\",\n",
    "\"I am exploring NLP\",\n",
    "\"I am a beginner in NLP\",\n",
    "\"I want to learn NLP\",\n",
    "\"I like advanced NLP\"\n",
    ")"
   ]
  },
  {
   "cell_type": "code",
   "execution_count": 3,
   "id": "8b907019",
   "metadata": {},
   "outputs": [],
   "source": [
    "from sklearn.feature_extraction.text import TfidfVectorizer\n",
    "from sklearn.metrics.pairwise import cosine_similarity"
   ]
  },
  {
   "cell_type": "code",
   "execution_count": 4,
   "id": "45c269e3",
   "metadata": {},
   "outputs": [],
   "source": [
    "tfid_vectorizer = TfidfVectorizer()"
   ]
  },
  {
   "cell_type": "code",
   "execution_count": 5,
   "id": "75f72323",
   "metadata": {},
   "outputs": [],
   "source": [
    "tfid_matrix = tfid_vectorizer.fit_transform(documents)"
   ]
  },
  {
   "cell_type": "code",
   "execution_count": 10,
   "id": "cafc4df3",
   "metadata": {},
   "outputs": [
    {
     "data": {
      "text/plain": [
       "(5, 10)"
      ]
     },
     "execution_count": 10,
     "metadata": {},
     "output_type": "execute_result"
    }
   ],
   "source": [
    "tfid_matrix.shape"
   ]
  },
  {
   "cell_type": "code",
   "execution_count": 12,
   "id": "0740f268",
   "metadata": {},
   "outputs": [
    {
     "data": {
      "text/plain": [
       "array([[1.        , 0.17682765, 0.14284054, 0.13489366, 0.68374784]])"
      ]
     },
     "execution_count": 12,
     "metadata": {},
     "output_type": "execute_result"
    }
   ],
   "source": [
    "cosine_similarity(tfid_matrix[0:1],tfid_matrix)"
   ]
  },
  {
   "cell_type": "code",
   "execution_count": 13,
   "id": "8a1004a1",
   "metadata": {},
   "outputs": [],
   "source": [
    "#The next version of similarity checking is phonetic matching, which roughly matches\n",
    "#the two words or sentences and creates an alphanumeric string as an encoded version\n",
    "#of the text or word. It is very useful for searching large text corpora, correcting spelling\n",
    "#errors, and matching relevant names."
   ]
  },
  {
   "cell_type": "code",
   "execution_count": 14,
   "id": "21002fbb",
   "metadata": {},
   "outputs": [],
   "source": [
    "import fuzzy"
   ]
  },
  {
   "cell_type": "code",
   "execution_count": 17,
   "id": "47cc332b",
   "metadata": {},
   "outputs": [],
   "source": [
    "soundex = fuzzy.Soundex(4)"
   ]
  },
  {
   "cell_type": "code",
   "execution_count": 26,
   "id": "456f5e50",
   "metadata": {},
   "outputs": [],
   "source": [
    "#soundex('natural')"
   ]
  },
  {
   "cell_type": "code",
   "execution_count": 27,
   "id": "9f732a94",
   "metadata": {},
   "outputs": [],
   "source": [
    "#Since soundex isn't working due to some dependency issue lets use another library called jellyfish"
   ]
  },
  {
   "cell_type": "code",
   "execution_count": 28,
   "id": "7e68de25",
   "metadata": {},
   "outputs": [
    {
     "data": {
      "text/plain": [
       "'N364'"
      ]
     },
     "execution_count": 28,
     "metadata": {},
     "output_type": "execute_result"
    }
   ],
   "source": [
    "import jellyfish\n",
    "jellyfish.soundex('natural')"
   ]
  },
  {
   "cell_type": "code",
   "execution_count": 30,
   "id": "b7e57981",
   "metadata": {},
   "outputs": [
    {
     "data": {
      "text/plain": [
       "'N364'"
      ]
     },
     "execution_count": 30,
     "metadata": {},
     "output_type": "execute_result"
    }
   ],
   "source": [
    "jellyfish.soundex('nattural')"
   ]
  },
  {
   "cell_type": "code",
   "execution_count": 31,
   "id": "7410e11b",
   "metadata": {},
   "outputs": [
    {
     "data": {
      "text/plain": [
       "'F200'"
      ]
     },
     "execution_count": 31,
     "metadata": {},
     "output_type": "execute_result"
    }
   ],
   "source": [
    "jellyfish.soundex('fuck')"
   ]
  },
  {
   "cell_type": "code",
   "execution_count": 32,
   "id": "b4ab36a5",
   "metadata": {},
   "outputs": [
    {
     "data": {
      "text/plain": [
       "'F200'"
      ]
     },
     "execution_count": 32,
     "metadata": {},
     "output_type": "execute_result"
    }
   ],
   "source": [
    "jellyfish.soundex('fick')"
   ]
  },
  {
   "cell_type": "code",
   "execution_count": null,
   "id": "46660876",
   "metadata": {},
   "outputs": [],
   "source": []
  }
 ],
 "metadata": {
  "kernelspec": {
   "display_name": "Python 3 (ipykernel)",
   "language": "python",
   "name": "python3"
  },
  "language_info": {
   "codemirror_mode": {
    "name": "ipython",
    "version": 3
   },
   "file_extension": ".py",
   "mimetype": "text/x-python",
   "name": "python",
   "nbconvert_exporter": "python",
   "pygments_lexer": "ipython3",
   "version": "3.11.4"
  }
 },
 "nbformat": 4,
 "nbformat_minor": 5
}
