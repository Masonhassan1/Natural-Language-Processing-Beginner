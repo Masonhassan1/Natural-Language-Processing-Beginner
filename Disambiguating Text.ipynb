{
 "cells": [
  {
   "cell_type": "code",
   "execution_count": 5,
   "id": "e4183fb7",
   "metadata": {},
   "outputs": [],
   "source": [
    "#Ambiguity arises due to the different meanings of words in a different context."
   ]
  },
  {
   "cell_type": "code",
   "execution_count": 6,
   "id": "a42f9ee5",
   "metadata": {},
   "outputs": [],
   "source": [
    "Text1 = 'I went to the bank to deposit my money'\n",
    "Text2 = 'The river bank was full of dead fish'"
   ]
  },
  {
   "cell_type": "code",
   "execution_count": 9,
   "id": "adae9f50",
   "metadata": {},
   "outputs": [],
   "source": [
    "#Lesk algorithm is used to do this\n",
    "#pip3 install -U pywsd"
   ]
  },
  {
   "cell_type": "code",
   "execution_count": 10,
   "id": "d68a5b37",
   "metadata": {},
   "outputs": [
    {
     "name": "stderr",
     "output_type": "stream",
     "text": [
      "Warming up PyWSD (takes ~10 secs)... took 16.842981815338135 secs.\n"
     ]
    }
   ],
   "source": [
    "from pywsd.lesk import simple_lesk"
   ]
  },
  {
   "cell_type": "code",
   "execution_count": 11,
   "id": "d0140ffb",
   "metadata": {},
   "outputs": [],
   "source": [
    "from nltk.corpus import wordnet as wn\n",
    "from nltk.stem import PorterStemmer\n",
    "from itertools import chain"
   ]
  },
  {
   "cell_type": "code",
   "execution_count": 12,
   "id": "f32580d8",
   "metadata": {},
   "outputs": [],
   "source": [
    "bank_sents = ['I went to the bank to deposit my money','The river bank was full of dead fishes']"
   ]
  },
  {
   "cell_type": "code",
   "execution_count": 13,
   "id": "f53f6f8f",
   "metadata": {},
   "outputs": [
    {
     "name": "stdout",
     "output_type": "stream",
     "text": [
      "Context-1: I went to the bank to deposit my money\n"
     ]
    }
   ],
   "source": [
    "print (\"Context-1:\", bank_sents[0])"
   ]
  },
  {
   "cell_type": "code",
   "execution_count": 14,
   "id": "320c0f68",
   "metadata": {},
   "outputs": [],
   "source": [
    "answer = simple_lesk(bank_sents[0],'bank')"
   ]
  },
  {
   "cell_type": "code",
   "execution_count": 16,
   "id": "1cc329fe",
   "metadata": {},
   "outputs": [
    {
     "name": "stdout",
     "output_type": "stream",
     "text": [
      "Sense: Synset('depository_financial_institution.n.01')\n"
     ]
    }
   ],
   "source": [
    "print (\"Sense:\", answer)"
   ]
  },
  {
   "cell_type": "code",
   "execution_count": 17,
   "id": "7cddff6e",
   "metadata": {},
   "outputs": [
    {
     "name": "stdout",
     "output_type": "stream",
     "text": [
      "Definition :  a financial institution that accepts deposits and channels the money into lending activities\n"
     ]
    }
   ],
   "source": [
    "print (\"Definition : \", answer.definition())"
   ]
  },
  {
   "cell_type": "code",
   "execution_count": 18,
   "id": "a467e082",
   "metadata": {},
   "outputs": [
    {
     "name": "stdout",
     "output_type": "stream",
     "text": [
      "Context-2: The river bank was full of dead fishes\n"
     ]
    }
   ],
   "source": [
    "print (\"Context-2:\", bank_sents[1])"
   ]
  },
  {
   "cell_type": "code",
   "execution_count": 24,
   "id": "973b0cb2",
   "metadata": {},
   "outputs": [],
   "source": [
    "answer = simple_lesk(bank_sents[1],'bank','n')"
   ]
  },
  {
   "cell_type": "code",
   "execution_count": 25,
   "id": "400fca78",
   "metadata": {},
   "outputs": [
    {
     "name": "stdout",
     "output_type": "stream",
     "text": [
      "Sense: Synset('bank.n.01')\n"
     ]
    }
   ],
   "source": [
    "print (\"Sense:\", answer)"
   ]
  },
  {
   "cell_type": "code",
   "execution_count": 26,
   "id": "406f277c",
   "metadata": {},
   "outputs": [
    {
     "name": "stdout",
     "output_type": "stream",
     "text": [
      "Definition :  sloping land (especially the slope beside a body of water)\n"
     ]
    }
   ],
   "source": [
    "print (\"Definition : \", answer.definition())"
   ]
  },
  {
   "cell_type": "code",
   "execution_count": null,
   "id": "3d39e61f",
   "metadata": {},
   "outputs": [],
   "source": []
  }
 ],
 "metadata": {
  "kernelspec": {
   "display_name": "Python 3 (ipykernel)",
   "language": "python",
   "name": "python3"
  },
  "language_info": {
   "codemirror_mode": {
    "name": "ipython",
    "version": 3
   },
   "file_extension": ".py",
   "mimetype": "text/x-python",
   "name": "python",
   "nbconvert_exporter": "python",
   "pygments_lexer": "ipython3",
   "version": "3.11.4"
  }
 },
 "nbformat": 4,
 "nbformat_minor": 5
}
