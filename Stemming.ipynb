{
 "cells": [
  {
   "cell_type": "code",
   "execution_count": 1,
   "id": "f97dbf35",
   "metadata": {},
   "outputs": [],
   "source": [
    "#Stemming means extracting a root word\n",
    "text=['I like fishing','I eat fish','There are many fishes in pound']"
   ]
  },
  {
   "cell_type": "code",
   "execution_count": 3,
   "id": "00da7ab6",
   "metadata": {},
   "outputs": [
    {
     "name": "stdout",
     "output_type": "stream",
     "text": [
      "                            tweet\n",
      "0                  I like fishing\n",
      "1                      I eat fish\n",
      "2  There are many fishes in pound\n"
     ]
    }
   ],
   "source": [
    "import pandas as pd\n",
    "df = pd.DataFrame({'tweet':text})\n",
    "print(df)"
   ]
  },
  {
   "cell_type": "code",
   "execution_count": 4,
   "id": "ddf34fab",
   "metadata": {},
   "outputs": [
    {
     "data": {
      "text/plain": [
       "0                     i like fish\n",
       "1                      i eat fish\n",
       "2    there are mani fish in pound\n",
       "Name: tweet, dtype: object"
      ]
     },
     "execution_count": 4,
     "metadata": {},
     "output_type": "execute_result"
    }
   ],
   "source": [
    "from nltk.stem import PorterStemmer\n",
    "st = PorterStemmer()\n",
    "df['tweet'][:5].apply(lambda x:\" \".join([st.stem(word) for word in x.split()]))"
   ]
  },
  {
   "cell_type": "code",
   "execution_count": null,
   "id": "2f1a8705",
   "metadata": {},
   "outputs": [],
   "source": []
  }
 ],
 "metadata": {
  "kernelspec": {
   "display_name": "Python 3 (ipykernel)",
   "language": "python",
   "name": "python3"
  },
  "language_info": {
   "codemirror_mode": {
    "name": "ipython",
    "version": 3
   },
   "file_extension": ".py",
   "mimetype": "text/x-python",
   "name": "python",
   "nbconvert_exporter": "python",
   "pygments_lexer": "ipython3",
   "version": "3.11.4"
  }
 },
 "nbformat": 4,
 "nbformat_minor": 5
}
