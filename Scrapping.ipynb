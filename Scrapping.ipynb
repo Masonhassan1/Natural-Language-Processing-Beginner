{
 "cells": [
  {
   "cell_type": "code",
   "execution_count": 1,
   "id": "563d9341",
   "metadata": {},
   "outputs": [],
   "source": [
    "from bs4 import BeautifulSoup\n",
    "import requests\n",
    "import pandas as pd\n",
    "from pandas import Series, DataFrame\n",
    "from ipywidgets import FloatProgress\n",
    "from time import sleep\n",
    "from IPython.display import display\n",
    "import re\n",
    "import pickle\n"
   ]
  },
  {
   "cell_type": "code",
   "execution_count": 2,
   "id": "906e3cae",
   "metadata": {},
   "outputs": [],
   "source": [
    "url = 'http://www.imdb.com/chart/top?ref_=nv_mv_250_6'\n",
    "result = requests.get(url)\n",
    "c = result.content\n",
    "soup = BeautifulSoup(c,\"lxml\")"
   ]
  },
  {
   "cell_type": "code",
   "execution_count": 3,
   "id": "ee1da992",
   "metadata": {},
   "outputs": [
    {
     "data": {
      "text/plain": [
       "<html>\n",
       "<head><title>403 Forbidden</title></head>\n",
       "<body>\n",
       "<center><h1>403 Forbidden</h1></center>\n",
       "</body>\n",
       "</html>"
      ]
     },
     "execution_count": 3,
     "metadata": {},
     "output_type": "execute_result"
    }
   ],
   "source": [
    "soup"
   ]
  },
  {
   "cell_type": "code",
   "execution_count": 4,
   "id": "c1ecaeb4",
   "metadata": {},
   "outputs": [],
   "source": [
    "summary = soup.find('div',{'class':'article'})\n",
    "moviename = []\n",
    "cast = []\n",
    "description = []\n",
    "rating = []\n",
    "ratingoutof = []\n",
    "year = []\n",
    "genre = []\n",
    "movielength = []\n",
    "rot_audscore = []\n",
    "rot_avgrating = []\n",
    "rot_users = []"
   ]
  },
  {
   "cell_type": "code",
   "execution_count": 5,
   "id": "38b72312",
   "metadata": {},
   "outputs": [
    {
     "name": "stderr",
     "output_type": "stream",
     "text": [
      "Widget Javascript not detected.  It may not be installed or enabled properly. Reconnecting the current kernel may help.\n"
     ]
    },
    {
     "data": {
      "application/vnd.jupyter.widget-view+json": {
       "model_id": "c84727fee218415d9aa8d2a18d5e9e47"
      }
     },
     "metadata": {},
     "output_type": "display_data"
    },
    {
     "ename": "AttributeError",
     "evalue": "'NoneType' object has no attribute 'find'",
     "output_type": "error",
     "traceback": [
      "\u001b[0;31m---------------------------------------------------------------------------\u001b[0m",
      "\u001b[0;31mAttributeError\u001b[0m                            Traceback (most recent call last)",
      "Cell \u001b[0;32mIn [5], line 6\u001b[0m\n\u001b[1;32m      3\u001b[0m f \u001b[38;5;241m=\u001b[39m FloatProgress(\u001b[38;5;28mmin\u001b[39m\u001b[38;5;241m=\u001b[39m\u001b[38;5;241m0\u001b[39m, \u001b[38;5;28mmax\u001b[39m\u001b[38;5;241m=\u001b[39m\u001b[38;5;241m250\u001b[39m)\n\u001b[1;32m      4\u001b[0m display(f)\n\u001b[0;32m----> 6\u001b[0m \u001b[38;5;28;01mfor\u001b[39;00m row, i \u001b[38;5;129;01min\u001b[39;00m \u001b[38;5;28mzip\u001b[39m(\u001b[43msummary\u001b[49m\u001b[38;5;241;43m.\u001b[39;49m\u001b[43mfind\u001b[49m(\u001b[38;5;124m'\u001b[39m\u001b[38;5;124mtable\u001b[39m\u001b[38;5;124m'\u001b[39m)\u001b[38;5;241m.\u001b[39mfindAll(\u001b[38;5;124m'\u001b[39m\u001b[38;5;124mtr\u001b[39m\u001b[38;5;124m'\u001b[39m), \u001b[38;5;28mrange\u001b[39m(\u001b[38;5;28mlen\u001b[39m(summary\u001b[38;5;241m.\u001b[39mfind(\u001b[38;5;124m'\u001b[39m\u001b[38;5;124mtable\u001b[39m\u001b[38;5;124m'\u001b[39m)\u001b[38;5;241m.\u001b[39mfindAll(\u001b[38;5;124m'\u001b[39m\u001b[38;5;124mtr\u001b[39m\u001b[38;5;124m'\u001b[39m)))):\n\u001b[1;32m      7\u001b[0m     \u001b[38;5;28;01mfor\u001b[39;00m sitem \u001b[38;5;129;01min\u001b[39;00m row\u001b[38;5;241m.\u001b[39mfindAll(\u001b[38;5;124m'\u001b[39m\u001b[38;5;124mspan\u001b[39m\u001b[38;5;124m'\u001b[39m, {\u001b[38;5;124m'\u001b[39m\u001b[38;5;124mclass\u001b[39m\u001b[38;5;124m'\u001b[39m: \u001b[38;5;124m'\u001b[39m\u001b[38;5;124msecondaryInfo\u001b[39m\u001b[38;5;124m'\u001b[39m}):\n\u001b[1;32m      8\u001b[0m         s \u001b[38;5;241m=\u001b[39m sitem\u001b[38;5;241m.\u001b[39mfind(text\u001b[38;5;241m=\u001b[39m\u001b[38;5;28;01mTrue\u001b[39;00m)\n",
      "\u001b[0;31mAttributeError\u001b[0m: 'NoneType' object has no attribute 'find'"
     ]
    }
   ],
   "source": [
    "# Extracting the required data from the html soup.\n",
    "rgx = re.compile('[%s]' % '()')\n",
    "f = FloatProgress(min=0, max=250)\n",
    "display(f)\n",
    "\n",
    "for row, i in zip(summary.find('table').findAll('tr'), range(len(summary.find('table').findAll('tr')))):\n",
    "    for sitem in row.findAll('span', {'class': 'secondaryInfo'}):\n",
    "        s = sitem.find(text=True)\n",
    "        year.append(rgx.sub(\"\", s))\n",
    "    \n",
    "    for ritem in row.findAll('td', {'class': 'ratingColumn imdbRating'}):\n",
    "        for iget in ritem.findAll('strong'):\n",
    "            rating.append(iget.find(text=True))\n",
    "            ratingoutof.append(iget.get('title').split(' ', 4)[3])\n",
    "    \n",
    "    for item in row.findAll('td', {'class': 'titleColumn'}):\n",
    "        for href in item.findAll('a', href=True):\n",
    "            moviename.append(href.find(text=True))\n",
    "            rurl = 'https://www.rottentomatoes.com/m/' + href.find(text=True)\n",
    "            try:\n",
    "                rresult = requests.get(rurl)\n",
    "            except requests.exceptions.ConnectionError:\n",
    "                status_code = \"Connection refused\"\n",
    "            rc = rresult.content\n",
    "            rsoup = BeautifulSoup(rc)\n",
    "            try:\n",
    "                rot_audscore.append(rsoup.find('div', {'class': 'meter-value'}).find('span', {'class': 'superPageFontColor'}).text)\n",
    "                rot_avgrating.append(rsoup.find('div', {'class': 'audience-info hidden-xs superPageFontColor'}).find('div').contents[2].strip())\n",
    "                rot_users.append(rsoup.find('div', {'class': 'audience-info hidden-xs superPageFontColor'}).contents[3].contents[2].strip())\n",
    "            except AttributeError:\n",
    "                rot_audscore.append(\"\")\n",
    "                rot_avgrating.append(\"\")\n",
    "                rot_users.append(\"\")\n",
    "            cast.append(href.get('title'))\n",
    "            imdb = \"http://www.imdb.com\" + href.get('href')\n",
    "            try:\n",
    "                iresult = requests.get(imdb)\n",
    "                ic = iresult.content\n",
    "                isoup = BeautifulSoup(ic)\n",
    "                description.append(isoup.find('div', {'class': 'summary_text'}).find(text=True).strip())\n",
    "                genre.append(isoup.find('span', {'class': 'itemprop'}).find(text=True))\n",
    "                movielength.append(isoup.find('time', {'itemprop': 'duration'}).find(text=True).strip())\n",
    "            except requests.exceptions.ConnectionError:\n",
    "                description.append(\"\")\n",
    "                genre.append(\"\")\n",
    "                movielength.append(\"\")\n",
    "    sleep(0.1)\n",
    "    f.value = i"
   ]
  },
  {
   "cell_type": "code",
   "execution_count": null,
   "id": "f4d2cc85",
   "metadata": {},
   "outputs": [],
   "source": []
  }
 ],
 "metadata": {
  "kernelspec": {
   "display_name": "Python 3 (ipykernel)",
   "language": "python",
   "name": "python3"
  },
  "language_info": {
   "codemirror_mode": {
    "name": "ipython",
    "version": 3
   },
   "file_extension": ".py",
   "mimetype": "text/x-python",
   "name": "python",
   "nbconvert_exporter": "python",
   "pygments_lexer": "ipython3",
   "version": "3.11.4"
  }
 },
 "nbformat": 4,
 "nbformat_minor": 5
}
