{
 "cells": [
  {
   "cell_type": "code",
   "execution_count": 3,
   "id": "591b3ade",
   "metadata": {},
   "outputs": [],
   "source": [
    "import nltk\n",
    "from textblob import TextBlob"
   ]
  },
  {
   "cell_type": "code",
   "execution_count": 4,
   "id": "1a1b5f83",
   "metadata": {},
   "outputs": [],
   "source": [
    "blob = TextBlob(\"John is learning natural language processing\")"
   ]
  },
  {
   "cell_type": "code",
   "execution_count": 10,
   "id": "675d6fda",
   "metadata": {},
   "outputs": [
    {
     "name": "stdout",
     "output_type": "stream",
     "text": [
      "john\n",
      "natural language processing\n"
     ]
    }
   ],
   "source": [
    "for np in blob.noun_phrases:\n",
    "    print(np)"
   ]
  },
  {
   "cell_type": "code",
   "execution_count": 11,
   "id": "b4108e0e",
   "metadata": {},
   "outputs": [
    {
     "data": {
      "text/plain": [
       "['john', 'natural language processing']"
      ]
     },
     "execution_count": 11,
     "metadata": {},
     "output_type": "execute_result"
    }
   ],
   "source": [
    "[np for np in blob.noun_phrases]\n"
   ]
  },
  {
   "cell_type": "code",
   "execution_count": null,
   "id": "f5c566e4",
   "metadata": {},
   "outputs": [],
   "source": []
  }
 ],
 "metadata": {
  "kernelspec": {
   "display_name": "Python 3 (ipykernel)",
   "language": "python",
   "name": "python3"
  },
  "language_info": {
   "codemirror_mode": {
    "name": "ipython",
    "version": 3
   },
   "file_extension": ".py",
   "mimetype": "text/x-python",
   "name": "python",
   "nbconvert_exporter": "python",
   "pygments_lexer": "ipython3",
   "version": "3.11.4"
  }
 },
 "nbformat": 4,
 "nbformat_minor": 5
}
