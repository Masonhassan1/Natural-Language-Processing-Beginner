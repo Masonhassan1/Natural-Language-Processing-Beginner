{
 "cells": [
  {
   "cell_type": "code",
   "execution_count": 1,
   "id": "6b02c798",
   "metadata": {},
   "outputs": [],
   "source": [
    "lookup_dict = {'nlp':'natural language processing', 'ur': 'your', 'wby' : 'what about you'}\n"
   ]
  },
  {
   "cell_type": "code",
   "execution_count": 2,
   "id": "124271e9",
   "metadata": {},
   "outputs": [],
   "source": [
    "import re"
   ]
  },
  {
   "cell_type": "code",
   "execution_count": 6,
   "id": "6e274d86",
   "metadata": {},
   "outputs": [],
   "source": [
    "def text_std(input_text):\n",
    "    words=input_text.split()\n",
    "    new_words=[]\n",
    "    for word in words:\n",
    "        word=re.sub(r'[^\\w\\s]','',word)\n",
    "        if word.lower() in lookup_dict:\n",
    "            word=lookup_dict[word.lower()]\n",
    "            new_words.append(word)\n",
    "            new_text=\" \".join(new_words)\n",
    "    return new_text"
   ]
  },
  {
   "cell_type": "code",
   "execution_count": 7,
   "id": "fe21d0cd",
   "metadata": {},
   "outputs": [
    {
     "data": {
      "text/plain": [
       "'natural language processing your'"
      ]
     },
     "execution_count": 7,
     "metadata": {},
     "output_type": "execute_result"
    }
   ],
   "source": [
    "text_std(\"I like nlp its ur choice\")"
   ]
  },
  {
   "cell_type": "code",
   "execution_count": null,
   "id": "d02bc98a",
   "metadata": {},
   "outputs": [],
   "source": []
  }
 ],
 "metadata": {
  "kernelspec": {
   "display_name": "Python 3 (ipykernel)",
   "language": "python",
   "name": "python3"
  },
  "language_info": {
   "codemirror_mode": {
    "name": "ipython",
    "version": 3
   },
   "file_extension": ".py",
   "mimetype": "text/x-python",
   "name": "python",
   "nbconvert_exporter": "python",
   "pygments_lexer": "ipython3",
   "version": "3.11.4"
  }
 },
 "nbformat": 4,
 "nbformat_minor": 5
}
