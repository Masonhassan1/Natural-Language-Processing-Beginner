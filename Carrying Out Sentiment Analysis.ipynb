{
 "cells": [
  {
   "cell_type": "code",
   "execution_count": 5,
   "id": "f4390324",
   "metadata": {},
   "outputs": [],
   "source": [
    "#•Polarity lies in the range of [–1,1], where 1 means a positive statement\n",
    "#and –1 means a negative statement.\n",
    "#•Subjectivity [0,1] is an opinion and not factual information."
   ]
  },
  {
   "cell_type": "code",
   "execution_count": 6,
   "id": "1a46daf3",
   "metadata": {},
   "outputs": [],
   "source": [
    "review = \"I like this phone. screen quality and camera clarity is really good.\"\n",
    "review2 = \"This tv is not good. Bad quality, no clarity, worst experience\""
   ]
  },
  {
   "cell_type": "code",
   "execution_count": 7,
   "id": "bf2330ad",
   "metadata": {},
   "outputs": [],
   "source": [
    "from textblob import TextBlob"
   ]
  },
  {
   "cell_type": "code",
   "execution_count": 8,
   "id": "806f0718",
   "metadata": {},
   "outputs": [],
   "source": [
    "blob = TextBlob(review)"
   ]
  },
  {
   "cell_type": "code",
   "execution_count": 9,
   "id": "f7fad21f",
   "metadata": {},
   "outputs": [
    {
     "data": {
      "text/plain": [
       "Sentiment(polarity=0.7, subjectivity=0.6000000000000001)"
      ]
     },
     "execution_count": 9,
     "metadata": {},
     "output_type": "execute_result"
    }
   ],
   "source": [
    "blob.sentiment"
   ]
  },
  {
   "cell_type": "code",
   "execution_count": 10,
   "id": "65078b7c",
   "metadata": {},
   "outputs": [
    {
     "data": {
      "text/plain": [
       "Sentiment(polarity=-0.6833333333333332, subjectivity=0.7555555555555555)"
      ]
     },
     "execution_count": 10,
     "metadata": {},
     "output_type": "execute_result"
    }
   ],
   "source": [
    "blob = TextBlob(review2)\n",
    "blob.sentiment"
   ]
  },
  {
   "cell_type": "code",
   "execution_count": 1,
   "id": "3ed23243",
   "metadata": {},
   "outputs": [],
   "source": [
    "x=\"\"\"\n",
    "if you are here it means you're here to learn something\"\"\""
   ]
  },
  {
   "cell_type": "code",
   "execution_count": 12,
   "id": "96082842",
   "metadata": {},
   "outputs": [],
   "source": [
    "blob = TextBlob(x)"
   ]
  },
  {
   "cell_type": "code",
   "execution_count": 13,
   "id": "108baa7e",
   "metadata": {},
   "outputs": [
    {
     "data": {
      "text/plain": [
       "Sentiment(polarity=0.15595238095238095, subjectivity=0.5251190476190477)"
      ]
     },
     "execution_count": 13,
     "metadata": {},
     "output_type": "execute_result"
    }
   ],
   "source": [
    "blob.sentiment"
   ]
  },
  {
   "cell_type": "code",
   "execution_count": null,
   "id": "7adce7e2",
   "metadata": {},
   "outputs": [],
   "source": []
  }
 ],
 "metadata": {
  "kernelspec": {
   "display_name": "Python 3 (ipykernel)",
   "language": "python",
   "name": "python3"
  },
  "language_info": {
   "codemirror_mode": {
    "name": "ipython",
    "version": 3
   },
   "file_extension": ".py",
   "mimetype": "text/x-python",
   "name": "python",
   "nbconvert_exporter": "python",
   "pygments_lexer": "ipython3",
   "version": "3.11.4"
  }
 },
 "nbformat": 4,
 "nbformat_minor": 5
}
