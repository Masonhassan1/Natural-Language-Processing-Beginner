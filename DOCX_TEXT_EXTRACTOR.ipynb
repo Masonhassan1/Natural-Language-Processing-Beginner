{
 "cells": [
  {
   "cell_type": "code",
   "execution_count": 6,
   "id": "45d4e669",
   "metadata": {},
   "outputs": [
    {
     "name": "stdout",
     "output_type": "stream",
     "text": [
      "Proof-of-Concept (POC) for Prototype Pollution VulnerabilityVulnerability Overview:During the assessment of the URL: https://developer.devolksbank.nl/admin/login?to-default-config=true&referrer=%2Fadmin%2Fapp%2Fapi-explorer, a Prototype Pollution vulnerability with the identifier GHSA-g9r4-xpmj-mj65 was identified. Prototype Pollution is a type of vulnerability that allows an attacker to manipulate the prototype of an object, potentially leading to unauthorized data manipulation, code execution, or denial of service.POC Exploitation:To demonstrate the Prototype Pollution vulnerability, follow these steps:1. Open the provided URL:  in your web browser.2. On the login page, perform the following steps to exploit the vulnerability:Exploitation Steps:a. Open the browser's Developer Console (press F12 or right-click and choose \"Inspect Element,\" then go to the \"Console\" tab).b. Execute the following JavaScript code in the console:“”Object.prototype.vulnerableFunction = () => {// Malicious code here (e.g., steal sensitive data or perform unauthorized actions)// For this POC, we will display an alert message.alert(\"Prototype Pollution Vulnerability Exploited!\");};“”PRESS ENTER THEN EXECUTE FOLLOWING COMMAND:“”document.vulnerableFunction();“”Result:Upon executing the JavaScript code, the malicious function \"vulnerableFunction\" will be added to the prototype of the \"Object\" globally. Consequently, it becomes accessible to all JavaScript objects in the application's scope. In this POC, we displayed an alert message to demonstrate that the Prototype Pollution vulnerability is successfully exploited.Impact of the Vulnerability:The Prototype Pollution vulnerability can have severe consequences for the application and its users. Depending on the specific implementation of the affected function, an attacker could manipulate data, escalate privileges, perform unauthorized actions, or even execute arbitrary code in the context of the application.Recommendations:To mitigate the Prototype Pollution vulnerability and enhance the security posture of the application, the following recommendations are suggested:1. Input Validation: Implement strict input validation and sanitization techniques to prevent potentially dangerous or unexpected data from polluting prototypes.2. Use Safe Object Methods: Avoid using unsafe object manipulation methods that could lead to prototype pollution. Use Object.freeze(), Object.seal(), or Object.defineProperty() to protect object properties from being altered.3. Regular Security Audits: Conduct regular security audits and vulnerability assessments to proactively identify and address security weaknesses.4. Security Training: Educate developers about secure coding practices, particularly concerning the usage of prototype functions and object manipulation.\n"
     ]
    }
   ],
   "source": [
    "from docx import Document\n",
    "doc=open(\"/home/zaheer/Documents/POC.docx\",\"rb\")\n",
    "document=Document(doc)\n",
    "docu=\"\"\n",
    "for para in document.paragraphs:\n",
    "    docu +=para.text\n",
    "print(docu)"
   ]
  },
  {
   "cell_type": "code",
   "execution_count": null,
   "id": "a52fcebb",
   "metadata": {},
   "outputs": [],
   "source": []
  }
 ],
 "metadata": {
  "kernelspec": {
   "display_name": "Python 3 (ipykernel)",
   "language": "python",
   "name": "python3"
  },
  "language_info": {
   "codemirror_mode": {
    "name": "ipython",
    "version": 3
   },
   "file_extension": ".py",
   "mimetype": "text/x-python",
   "name": "python",
   "nbconvert_exporter": "python",
   "pygments_lexer": "ipython3",
   "version": "3.11.4"
  }
 },
 "nbformat": 4,
 "nbformat_minor": 5
}
