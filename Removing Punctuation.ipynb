{
 "cells": [
  {
   "cell_type": "code",
   "execution_count": 27,
   "id": "c45c8577",
   "metadata": {},
   "outputs": [],
   "source": [
    "text=['This is introduction to NLP','It is likely to be useful, to people ', 'Machine learning is the new electrcity','There would be less hype around AI and more action going forward','python is the best tool!','R is good langauage','I like this book','I want more books like this']"
   ]
  },
  {
   "cell_type": "code",
   "execution_count": 7,
   "id": "ed3d4a13",
   "metadata": {},
   "outputs": [],
   "source": [
    "import pandas as pd\n",
    "df= pd.DataFrame({'tweet':text})"
   ]
  },
  {
   "cell_type": "code",
   "execution_count": 13,
   "id": "8f77bc50",
   "metadata": {},
   "outputs": [
    {
     "name": "stdout",
     "output_type": "stream",
     "text": [
      "0                          This is introduction to NLP\n",
      "1                It is likely to be useful, to people \n",
      "2               Machine learning is the new electrcity\n",
      "3    There would be less hype around AI and more ac...\n",
      "4                             python is the best tool!\n",
      "5                                  R is good langauage\n",
      "6                                     I like this book\n",
      "7                          I want more books like this\n",
      "Name: tweet, dtype: object\n"
     ]
    }
   ],
   "source": [
    "print(df['tweet'])"
   ]
  },
  {
   "cell_type": "code",
   "execution_count": 21,
   "id": "78f2f248",
   "metadata": {},
   "outputs": [],
   "source": [
    "import re\n",
    "s=\"I. like. This book!\"\n",
    "query=re.sub(r'[^\\w\\s]','',s)"
   ]
  },
  {
   "cell_type": "code",
   "execution_count": 22,
   "id": "02df2313",
   "metadata": {},
   "outputs": [
    {
     "data": {
      "text/plain": [
       "'I like This book'"
      ]
     },
     "execution_count": 22,
     "metadata": {},
     "output_type": "execute_result"
    }
   ],
   "source": [
    "query"
   ]
  },
  {
   "cell_type": "code",
   "execution_count": 23,
   "id": "6a690f51",
   "metadata": {},
   "outputs": [
    {
     "name": "stderr",
     "output_type": "stream",
     "text": [
      "/tmp/ipykernel_34135/915134959.py:1: FutureWarning: The default value of regex will change from True to False in a future version.\n",
      "  df['tweet'] = df['tweet'].str.replace('[^\\w\\s]','')\n"
     ]
    }
   ],
   "source": [
    "df['tweet'] = df['tweet'].str.replace('[^\\w\\s]','')"
   ]
  },
  {
   "cell_type": "code",
   "execution_count": 25,
   "id": "2399c006",
   "metadata": {},
   "outputs": [
    {
     "data": {
      "text/plain": [
       "0                          This is introduction to NLP\n",
       "1                 It is likely to be useful to people \n",
       "2               Machine learning is the new electrcity\n",
       "3    There would be less hype around AI and more ac...\n",
       "4                              python is the best tool\n",
       "5                                  R is good langauage\n",
       "6                                     I like this book\n",
       "7                          I want more books like this\n",
       "Name: tweet, dtype: object"
      ]
     },
     "execution_count": 25,
     "metadata": {},
     "output_type": "execute_result"
    }
   ],
   "source": [
    "df['tweet']"
   ]
  },
  {
   "cell_type": "code",
   "execution_count": 33,
   "id": "c932bf2b",
   "metadata": {},
   "outputs": [
    {
     "data": {
      "text/plain": [
       "'I like This book'"
      ]
     },
     "execution_count": 33,
     "metadata": {},
     "output_type": "execute_result"
    }
   ],
   "source": [
    "import string\n",
    "s = \"I. like. This book!\"\n",
    "for c in string.punctuation:\n",
    "      s= s.replace(c,\"\")\n",
    "s"
   ]
  },
  {
   "cell_type": "code",
   "execution_count": null,
   "id": "4775d92a",
   "metadata": {},
   "outputs": [],
   "source": []
  }
 ],
 "metadata": {
  "kernelspec": {
   "display_name": "Python 3 (ipykernel)",
   "language": "python",
   "name": "python3"
  },
  "language_info": {
   "codemirror_mode": {
    "name": "ipython",
    "version": 3
   },
   "file_extension": ".py",
   "mimetype": "text/x-python",
   "name": "python",
   "nbconvert_exporter": "python",
   "pygments_lexer": "ipython3",
   "version": "3.11.4"
  }
 },
 "nbformat": 4,
 "nbformat_minor": 5
}
