{
 "cells": [
  {
   "cell_type": "code",
   "execution_count": 2,
   "id": "3a98c414",
   "metadata": {},
   "outputs": [],
   "source": [
    "#POS is the base for named entity resolution, question answering, and word sense disambiguation.\n",
    "#There are two ways a tagger can be built.\n",
    "#    •Rule-based: Rules created manually, which tag a word belonging to a particular POS.\n",
    "#    •Stochastic-based: These algorithms capture the sequence of the words and tag the probability of the sequence using hidden Markov models."
   ]
  },
  {
   "cell_type": "code",
   "execution_count": 3,
   "id": "e4a09c84",
   "metadata": {},
   "outputs": [],
   "source": [
    "text = 'Barry these scars we have they make us who we are, we aren\\'t meant to go back and fix them'"
   ]
  },
  {
   "cell_type": "code",
   "execution_count": 9,
   "id": "1a4904e7",
   "metadata": {},
   "outputs": [
    {
     "data": {
      "text/plain": [
       "['Barry',\n",
       " 'these',\n",
       " 'scars',\n",
       " 'we',\n",
       " 'have',\n",
       " 'they',\n",
       " 'make',\n",
       " 'us',\n",
       " 'who',\n",
       " 'we',\n",
       " 'are',\n",
       " ',',\n",
       " 'we',\n",
       " 'are',\n",
       " \"n't\",\n",
       " 'meant',\n",
       " 'to',\n",
       " 'go',\n",
       " 'back',\n",
       " 'and',\n",
       " 'fix',\n",
       " 'them']"
      ]
     },
     "execution_count": 9,
     "metadata": {},
     "output_type": "execute_result"
    }
   ],
   "source": [
    "import nltk \n",
    "from nltk.corpus import stopwords\n",
    "from nltk.tokenize import word_tokenize, sent_tokenize\n",
    "stop_words = set(stopwords.words('english'))\n",
    "tokens = sent_tokenize(text)\n",
    "word_tokenize(text)"
   ]
  },
  {
   "cell_type": "code",
   "execution_count": 11,
   "id": "c0bc5175",
   "metadata": {},
   "outputs": [
    {
     "data": {
      "text/plain": [
       "[('Barry', 'NNP'),\n",
       " ('scars', 'NNS'),\n",
       " ('make', 'VBP'),\n",
       " ('us', 'PRP'),\n",
       " (',', ','),\n",
       " (\"n't\", 'RB'),\n",
       " ('meant', 'VBD'),\n",
       " ('go', 'VB'),\n",
       " ('back', 'RB'),\n",
       " ('fix', 'NN')]"
      ]
     },
     "execution_count": 11,
     "metadata": {},
     "output_type": "execute_result"
    }
   ],
   "source": [
    "for i in tokens:\n",
    "    words = word_tokenize(i)\n",
    "    words = [w for w in words if not w in stop_words]\n",
    "    tags = nltk.pos_tag(words)\n",
    "tags"
   ]
  },
  {
   "cell_type": "code",
   "execution_count": 12,
   "id": "63c47f13",
   "metadata": {},
   "outputs": [],
   "source": [
    "#Following is the short form \n",
    "#•CC coordinating conjunction\n",
    "#•CD cardinal digit\n",
    "#•DT determiner\n",
    "#•EX existential there (e.g., there is ... think of it like there exists)\n",
    "#•FW foreign word\n",
    "#•IN preposition/subordinating conjunction\n",
    "#•JJ adjective e.g: big\n",
    "#•JJR adjective, comparative e.g: bigger\n",
    "#•JJS adjective, superlative e.g: biggest\n",
    "#•LS list marker 1)\n",
    "#•MD modal could, will\n",
    "#•NN noun, singular desk\n",
    "#•NNS noun plural desks\n",
    "#•NNP proper noun, singular Harrison\n",
    "#•NNPS proper noun, plural Americans\n",
    "#•PDT predeterminer all the kids\n",
    "#•POS possessive ending parents\n",
    "#•PRP personal pronoun I, he, she\n",
    "#•PRP$ possessive pronoun my, his, hers\n",
    "#•RB adverb very, silently\n",
    "#•RBR adverb, comparative better\n",
    "#•RBS adverb, superlative best\n",
    "#•RP particle give up\n",
    "#•TO to go to the store\n",
    "#•UH interjection\n",
    "#•VB verb, base form take\n",
    "#•VBD verb, past tense took\n",
    "#•VBG verb, gerund/present participle taking\n",
    "#•VBN verb, past participle taken\n",
    "#•VBP verb, sing, present. non-3D take\n",
    "#•VBZ verb, 3rd person sing. present takes\n",
    "#•WDT wh-determiner which\n",
    "#•WP wh-pronoun who, what\n",
    "#•WP$ possessive wh-pronoun whose\n",
    "#•WRB wh-adverb where, when"
   ]
  },
  {
   "cell_type": "code",
   "execution_count": null,
   "id": "aef78477",
   "metadata": {},
   "outputs": [],
   "source": []
  }
 ],
 "metadata": {
  "kernelspec": {
   "display_name": "Python 3 (ipykernel)",
   "language": "python",
   "name": "python3"
  },
  "language_info": {
   "codemirror_mode": {
    "name": "ipython",
    "version": 3
   },
   "file_extension": ".py",
   "mimetype": "text/x-python",
   "name": "python",
   "nbconvert_exporter": "python",
   "pygments_lexer": "ipython3",
   "version": "3.11.4"
  }
 },
 "nbformat": 4,
 "nbformat_minor": 5
}
