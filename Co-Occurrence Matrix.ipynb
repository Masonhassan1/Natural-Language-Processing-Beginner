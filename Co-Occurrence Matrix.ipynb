{
 "cells": [
  {
   "cell_type": "code",
   "execution_count": 1,
   "id": "e6b9fe07",
   "metadata": {},
   "outputs": [],
   "source": [
    "#A co-occurrence matrix is like a count vectorizer; it counts the occurrence of a group of\n",
    "#words rather than individual words."
   ]
  },
  {
   "cell_type": "code",
   "execution_count": 26,
   "id": "c58a0c2c",
   "metadata": {},
   "outputs": [],
   "source": [
    "import numpy as np\n",
    "import nltk\n",
    "from nltk import bigrams\n",
    "import itertools\n",
    "import pandas as pd"
   ]
  },
  {
   "cell_type": "code",
   "execution_count": 58,
   "id": "e2d17cd6",
   "metadata": {},
   "outputs": [],
   "source": [
    "def co_occurrence_matrix(corpus):\n",
    "    vocab = set(corpus)\n",
    "    vocab = list(vocab)\n",
    "    vocab_to_index = { word:i for i, word in enumerate(vocab) }\n",
    "    # Create bigrams from all words in corpus\n",
    "    bi_grams = list(bigrams(corpus))\n",
    "    # Frequency distribution of bigrams ((word1, word2), num_occurrences)\n",
    "    bigram_freq = nltk.FreqDist(bi_grams).most_common(len(bi_grams))\n",
    "    # Initialise co-occurrence matrix\n",
    "    # co_occurrence_matrix[current][previous]\n",
    "    co_occurrence_matrix = np.zeros((len(vocab), len(vocab)))\n",
    "    # Loop through the bigrams taking the current and previous word,\n",
    "    # and the number of occurrences of the bigram.\n",
    "    for bigram in bigram_freq:\n",
    "        current = bigram[0][1]\n",
    "        previous = bigram[0][0]\n",
    "        count = bigram[1]\n",
    "        pos_current = vocab_to_index[current]\n",
    "        pos_previous = vocab_to_index[previous]\n",
    "        co_occurrence_matrix[pos_current][pos_previous] = count\n",
    "    co_occurrence_matrix = np.matrix(co_occurrence_matrix)\n",
    "    # return the matrix and the index\n",
    "    return co_occurrence_matrix,vocab_to_index"
   ]
  },
  {
   "cell_type": "code",
   "execution_count": 50,
   "id": "17f60d47",
   "metadata": {},
   "outputs": [],
   "source": [
    "sentences = [['I', 'love', 'nlp'],['I', 'love','to' 'learn'],['nlp', 'is', 'future'],['nlp', 'is', 'cool']]"
   ]
  },
  {
   "cell_type": "code",
   "execution_count": 51,
   "id": "19131575",
   "metadata": {},
   "outputs": [],
   "source": [
    "merged = list(itertools.chain.from_iterable(sentences))"
   ]
  },
  {
   "cell_type": "code",
   "execution_count": 63,
   "id": "42f102f6",
   "metadata": {},
   "outputs": [
    {
     "name": "stdout",
     "output_type": "stream",
     "text": [
      "     0    1    2    3    4    5    6\n",
      "0  0.0  0.0  0.0  2.0  0.0  0.0  0.0\n",
      "1  1.0  0.0  0.0  0.0  0.0  0.0  0.0\n",
      "2  0.0  0.0  0.0  0.0  0.0  2.0  0.0\n",
      "3  0.0  1.0  1.0  0.0  1.0  0.0  0.0\n",
      "4  0.0  0.0  1.0  0.0  0.0  0.0  0.0\n",
      "5  0.0  0.0  0.0  1.0  0.0  0.0  0.0\n",
      "6  1.0  0.0  0.0  0.0  0.0  0.0  0.0\n"
     ]
    }
   ],
   "source": [
    "sentences = [['I', 'love', 'nlp'],\n",
    "                   ['I', 'love','to' 'learn'],\n",
    "                   ['nlp', 'is', 'future'],\n",
    "                   ['nlp', 'is', 'cool']]\n",
    "# create one list using many lists\n",
    "merged = list(itertools.chain.from_iterable(sentences))\n",
    "matrix = co_occurrence_matrix(merged)\n",
    "# generate the matrix\n",
    "CoMatrixFinal = pd.DataFrame(matrix[0])\n",
    "print(CoMatrixFinal)"
   ]
  },
  {
   "cell_type": "code",
   "execution_count": null,
   "id": "1d601e01",
   "metadata": {},
   "outputs": [],
   "source": []
  }
 ],
 "metadata": {
  "kernelspec": {
   "display_name": "Python 3 (ipykernel)",
   "language": "python",
   "name": "python3"
  },
  "language_info": {
   "codemirror_mode": {
    "name": "ipython",
    "version": 3
   },
   "file_extension": ".py",
   "mimetype": "text/x-python",
   "name": "python",
   "nbconvert_exporter": "python",
   "pygments_lexer": "ipython3",
   "version": "3.11.4"
  }
 },
 "nbformat": 4,
 "nbformat_minor": 5
}
